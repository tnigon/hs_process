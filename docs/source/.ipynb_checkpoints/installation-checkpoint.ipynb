{
 "cells": [
  {
   "cell_type": "markdown",
   "metadata": {},
   "source": [
    "# Setup and Installation\n",
    "## Overview\n",
    "\n",
    "The purpose of this  tutorial is to:\n",
    "\n",
    "1. deomonstrate the proper setup of your Python environment (optional)\n",
    "2. install required dependencies (several options for doing so)\n",
    "3. verify that the installation was successful\n",
    "\n",
    "***"
   ]
  },
  {
   "cell_type": "markdown",
   "metadata": {},
   "source": [
    "## System Requirements\n",
    "\n",
    "`hs_process` was developed using Python 3 (on Windows 10 OS), so it is recommended to install and use Python 3. This tutorial has only been tested on Windows. It will likely work on other major platforms (i.e., Windows, Linux, Mac), but you will have to be sure to get the required dependencies installed and working on your own.\n",
    "\n",
    "***"
   ]
  },
  {
   "cell_type": "markdown",
   "metadata": {},
   "source": [
    "## Software and Libraries\n",
    "\n",
    "The following software and libraries are required to leverage the full API of `hs_process`:\n",
    "\n",
    "**Software**\n",
    "\n",
    "* [Python 3](https://www.python.org/downloads/)\n",
    "\n",
    "**Libraries**\n",
    "\n",
    "1. [GDAL](https://anaconda.org/conda-forge/gdal)\n",
    "2. [GeoPandas](https://anaconda.org/conda-forge/geopandas)\n",
    "3. [Seaborn](https://anaconda.org/conda-forge/seaborn) (if only for visualizing data in the API examples)\n",
    "4. [Spectral Python](https://anaconda.org/conda-forge/spectral)\n",
    "\n",
    "The following libraries are also dependencies of `hs_process`, but they are also dependencies of `GDAL`, `GeoPandas`, `Seaborn`, and `Spectral`. Therefore they will be installed during the install procedures of the above libraries.\n",
    "\n",
    "- [Numpy)](https://anaconda.org/conda-forge/numpy) *`GDAL` has a `numpy` dependency\n",
    "- [Geopandas](https://anaconda.org/conda-forge/pandas) *`GeoPandas` has a `Pandas` dependency\n",
    "- [Matplotlib](https://anaconda.org/conda-forge/matplotlib) *`Seaborn` has a `Matplotlib` dependency\n",
    "- [Shapely](https://anaconda.org/conda-forge/shapely) *`GeoPandas` has a `Shapely` dependency\n",
    "\n",
    "***"
   ]
  },
  {
   "cell_type": "markdown",
   "metadata": {},
   "source": [
    "## Windows Setup"
   ]
  },
  {
   "cell_type": "markdown",
   "metadata": {},
   "source": [
    "### Install Python\n",
    "There are many ways to download and install Python. The [Anaconda distribution](https://www.anaconda.com/distribution/#download-section) is recommended becuase it can simplify the installation of package dependencies and streamlines the process of setting up the virtual environment. Anaconda also comes with [Spyder](https://www.spyder-ide.org/) and [Jupyter notebooks](https://jupyter.org/), each of which make working with Python quite easy.\n",
    "\n",
    "Download and install **Python 3.7** via [Anaconda](https://www.anaconda.com/distribution/#download-section). When installing, choose _**install for only me**_ instead of *install for all users*, as this simplifies insallation of package dependencies.\n",
    "\n",
    "***"
   ]
  },
  {
   "cell_type": "markdown",
   "metadata": {},
   "source": [
    "## Python environment setup and dependencies\n",
    "A *Python environment* refers to the ecosystem consisting of a particular installed version of [Python](https://www.python.org/), as well as any third-party packages it has access to. In Python, every time a package is installed (e.g., `pip install some_third_party_package`, `conda install -c conda-forge some_third_party_package`, etc.), your Python environment is gaining functionality that builds upon the [Python Standard Library](https://docs.python.org/3/library/).\n",
    "\n",
    "This is great because the possibilities of what can be accomplished using Python is virtually limitless. Ideally, the list of packages in a given environment should only include those required in the project we are working on, not all packages that have ever been installed and are needed for any project you've ever worked on (this can be dozens or even hundreds of packages). A downside with too many packages is that it is inefficient to share your environment with someone else that would like to use the program. As time goes on, there may also be compatibility issues among package dependencies and your code that can be avoided by creating a tidy little Python environment for your project.\n",
    "\n",
    "There are a few ways to go about setting up a new environment and getting the dependencies installed. In this tutorial, there are several installation options provided with instructions. Please choose one of the three options.\n",
    "\n",
    "***"
   ]
  },
  {
   "cell_type": "markdown",
   "metadata": {},
   "source": [
    "### [Option 1] Installling dependencies manually\n",
    "The `hs_process` dependencies can be installed manually on your own. Indeed, this is perhaps the most straightforward option because it does not require you to download either the *environment.yml* [Option 2](installation.html#[Option-2]-Setting-up-the-Python-environment-using-the-cloned-.yml-file) or *spec-file.txt* [Option 3](installation.html#[Option-3]-Setting-up-the-Python-environment-using-spec-file) from Github. It does, however, require more steps/commands.\n",
    "\n",
    "**Create the environment (optional)**\n",
    "\n",
    "With [Anaconda](https://www.anaconda.com/distribution/#download-section) installed, it is first recommended (but not required) to create a new **Python 3.7** environment before installing package dependencies. Open an Anaconda console from the start menu as an administrator by clicking `Start->Anaconda`, right-click `Anaconda Console`, and choose to `Run as Administrator`. In the `Anaconda Console`, execute the following commands:\n",
    "\n",
    "1. `conda create -n spec python=3.7` to create an Anaconda **Python 3.7** environment named _**spec**_ (you can name this whatever you'd like).\n",
    "2. `conda activate spec` to activate the newly configured environment. **IMPORTANT**: Anytime you want to use `hs_process`, be sure to run `conda activate spec` prior to opening your Python IDE (e.g. *Spyder*, *Jupyter Notebook*, etc.).\n",
    "\n",
    "**Install package dependencies**\n",
    "\n",
    "Although `pip install hs_process` will install package dependencies available on [PyPI](https://pypi.org/), it is not generally recommended to install a package via `pip` if that package exists in the [Anaconda Package Repository](https://anaconda.org/anaconda/repo). Therefore, all the required dependencies available in the [Anaconda Package Repository](https://anaconda.org/anaconda/repo) should be installed via the `conda install` command from the *conda-forge* channel. In the `Anaconda Console`, execute each of the following commands:\n",
    "\n",
    "3. `conda install -c conda-forge geopandas -y` [(*link*)](https://anaconda.org/conda-forge/geopandas)\n",
    "4. `conda install -c conda-forge seaborn -y` [(*link*)](https://anaconda.org/conda-forge/seaborn)\n",
    "5. `conda install -c conda-forge spectral -y` [(*link*)](https://anaconda.org/conda-forge/spectral)\n",
    "\n",
    "The following packages are also dependencies of `hs_process`, but they are also dependencies of `GDAL`, `GeoPandas`, `Seaborn`, and `Spectral`, and should therefore already have been installed via the above `conda install` commands. If you'd like to check, you can try to install manually anyway (but you should get a message saying *# All requested packages already installed.*).   \n",
    "\n",
    "- `conda install -c conda-forge gdal -y` [(*link*)](https://anaconda.org/conda-forge/gdal) *`GeoPandas` has a `GDAL` dependency\n",
    "- `conda install -c conda-forge numpy -y` [(*link*)](https://anaconda.org/conda-forge/numpy) *`GDAL`/`GeoPandas` has a `numpy` dependency\n",
    "- `conda install -c conda-forge pandas -y` [(*link*)](https://anaconda.org/conda-forge/pandas) *`GeoPandas` has a `Pandas` dependency\n",
    "- `conda install -c conda-forge matplotlib -y` [(*link*)](https://anaconda.org/conda-forge/matplotlib) *`Seaborn` has a `Matplotlib` dependency\n",
    "- `conda install -c conda-forge shapely -y` [(*link*)](https://anaconda.org/conda-forge/shapely) *`GeoPandas` has a `Shapely` dependency\n",
    "\n",
    "**Install** `hs_process` **via** `pip`\n",
    "\n",
    "Now that all of the dependencies are installed via `conda` (note that this is the recommended approach), `hs_process` can finally be installed via `pip`:\n",
    "\n",
    "6. `pip install hs_process` [(*link*)](https://pypi.org/project/hs_process/) will install the remaining dependencies via `pip`. Note that `pip` should only be used *after* as many dependencies as possible are installed via `conda install` - [see here for more information](https://docs.conda.io/projects/conda/en/latest/user-guide/tasks/manage-environments.html#using-pip-in-an-environment).\n",
    "\n",
    "**Run test.py to confirm** `hs_process` **and its dependencies are properly installed**\n",
    "\n",
    "7. `python <path to hs_process\\test\\test.py>` to run through some basic tests to be sure all dependencies are installed properly.\n",
    "\n",
    "***"
   ]
  },
  {
   "cell_type": "markdown",
   "metadata": {},
   "source": [
    "### [Option 2] Setting up the Python environment using the cloned *.yml* file\n",
    "With [Anaconda](https://www.anaconda.com/distribution/#download-section) installed, the most streamlined approach is to create a new virtual environment via a clone of the complete working environment to run `hs_process`. This requires that you download the .yml file from the `hs_process` [Github repository](https://github.com/tnigon/hs_process/blob/master/env/environment.yml).\n",
    "\n",
    "**Download** *environment.yml* **from Github** *(choose one of a few options)*\n",
    "\n",
    "1. You can simply copy the contents of \"environment.yml\" from the `hs_process` [Github repository](https://github.com/tnigon/hs_process/blob/master/env/environment.yml), paste them to a new file, and save this file in your local directory (be sure to name the file \"environment.yml\"). \n",
    "\n",
    "2. If [Git](https://git-scm.com/downloads) is already installed on your system, you can clone the `hs_process` repository into your local directory using the command line:\n",
    "`git clone https://github.com/tnigon/hs_process.git`\n",
    "\n",
    "3. Otherwise, you can always download the `hs_process` repository as a .zip file and unpack it into your local directory.\n",
    "\n",
    "**Create the environment *and* install dependencies simultaneously via the** *environment.yml* **file**\n",
    "\n",
    "Open an Anaconda console from the start menu as an administrator by clicking `Start->Anaconda`, right-click `Anaconda Console`, and choose to `Run as Administrator`. In the `Anaconda Console`, execute the following commands:\n",
    "\n",
    "1. `cd` to the local directory that contains the *environment.yml* file (e.g., the location you saved the \"environment.yml\" file, or the location of your `hs_process` Github clone - `Github\\hs_process\\env`).\n",
    "2. `conda env create --name spec --file environment.yml`. This will configure an Anaconda environment named _**spec**_ with all of the required dependencies. This is the recommended approach, because it installs as many dependencies via `conda` before resorting to `pip` for the remaining packages. Note that this command also installs `hs_process`. This process will take some time, depending on your computer and internet speeds (1-5 minutes is common).\n",
    "3. `conda activate spec` to activate the newly configured environment. **Important**: Anytime you want to use `hs_process`, be sure to run `conda activate spec` prior to opening your Python IDE (e.g. *Spyder*, *Jupyter Notebook*, etc.).\n",
    "\n",
    "**Run test.py to confirm** `hs_process` **and its dependencies are properly installed**\n",
    "\n",
    "4. `python <path to hs_process\\test\\test.py>` to run through some basic tests to be sure all dependencies are installed properly.\n",
    "\n",
    "***"
   ]
  },
  {
   "cell_type": "markdown",
   "metadata": {},
   "source": [
    "### [Option 3] Setting up the Python environment using *spec-file*\n",
    "The required packages can also be installed via the [*spec-file.txt*](https://github.com/tnigon/hs_process/blob/master/env/spec-file.txt) file. Similar to the *.yml approach* ([Option 2](installation.html#[Option-2]-Setting-up-the-Python-environment-using-the-cloned-.yml-file) above), this approach requires that you download the [*spec-file.txt*](https://github.com/tnigon/hs_process/blob/master/env/spec-file.txt) file from the `hs_process` [Github repository](https://github.com/tnigon/hs_process).\n",
    "\n",
    "**Download** *spec-file.txt* **from Github** *(choose one of a few options)*\n",
    "\n",
    "1. You can simply copy the contents of \"spec-file.txt\" from the `hs_process` [Github repository](https://github.com/tnigon/hs_process/blob/master/env/spec-file.txt), paste them to a new file, and save this file in your local directory (be sure to name the file \"spec-file.txt\"). \n",
    "\n",
    "2. If [Git](https://git-scm.com/downloads) is already installed on your system, you can clone the `hs_process` repository into your local directory using the command line:\n",
    "`git clone https://github.com/tnigon/hs_process.git`\n",
    "\n",
    "3. Otherwise, you can always download the `hs_process` repository as a .zip file and unpack it into your local directory.\n",
    "\n",
    "**Create the environment while installing all dependencies**\n",
    "\n",
    "With [Anaconda](https://www.anaconda.com/distribution/#download-section) installed, a new environment will be created based on the contents of *spec-file.txt*. Open an Anaconda console from the start menu as an administrator by clicking `Start->Anaconda`, right-click `Anaconda Console`, and choose to `Run as Administrator`. In the `Anaconda Console`, execute the following commands:\n",
    "\n",
    "1. `cd` to the local directory that contains the *spec-file.txt* file (e.g., the location you saved the \"spec-file.txt\" file, or the location of your `hs_process` Github clone - `Github\\hs_process\\env`).\n",
    "2. `conda create --name spec --file spec-file.txt` to create an Anaconda **Python 3.7** environment named _**spec**_ with all of the required dependencies. This is the recommended approach, because it installs as many dependencies via `conda` before resorting to `pip` for the remaining packages. Note that this command also installs `hs_process`. This process will take some time, depending on your computer and internet speeds (1-5 minutes is common).\n",
    "3. `conda activate spec` to activate the newly configured environment. **Important**: Anytime you want to use `hs_process`, be sure to run `conda activate spec` prior to opening your Python IDE (e.g. *Spyder*, *Jupyter Notebook*, etc.).\n",
    "4. `pip install hs_process` [(*link*)](https://pypi.org/project/hs_process/) will install the remaining dependencies via `pip`. Note that `pip` should only be used *after* as many dependencies as possible are installed via `conda install` - [see here for more information](https://docs.conda.io/projects/conda/en/latest/user-guide/tasks/manage-environments.html#using-pip-in-an-environment).\n",
    "\n",
    "**Run test.py to confirm** `hs_process` **and its dependencies are properly installed**\n",
    "\n",
    "5. `python <path to hs_process\\test\\test.py>` to run through some basic tests to be sure all dependencies are installed properly.\n",
    "\n",
    "***"
   ]
  },
  {
   "cell_type": "markdown",
   "metadata": {},
   "source": [
    "### [Option 4]  Installing `hs_process` dependencies via `pip` (not generally recommended)\n",
    "One of the dependancies of `hs_process` (i.e., *Fiona*) cannot be easily installed using the `pip` command. If you'd rather not install dependencies via the *.yml* approach (Option 1 above), then they can be installed according to the *setup requirements* while `hs_process` is being installed via the `pip` command. However, Anaconda **MUST** still be used to install the *GeoPandas* and *Fiona* dependencies (see below).\n",
    "\n",
    "**Create the environment (optional)**\n",
    "\n",
    "With [Anaconda](https://www.anaconda.com/distribution/#download-section) installed, it is first recommended (but not required) to create a new **Python 3.7** environment before installing package dependencies. Open an Anaconda console from the start menu as an administrator by clicking `Start->Anaconda`, right-click `Anaconda Console`, and choose to `Run as Administrator`. In the `Anaconda Console`, execute the following commands:\n",
    "\n",
    "1. `cd` to the local directory that contains the *requirements.txt* file (e.g., `cd Documents\\Github\\hs_process\\env`).\n",
    "2. `conda create -n spec python=3.7` to create an Anaconda **Python 3.7** environment named _**spec**_.\n",
    "3. `conda activate spec` to activate the newly configured environment. **Important**: Anytime you want to use `hs_process`, be sure to run `conda activate spec` prior to opening your Python IDE (e.g. *Spyder*, *Jupyter Notebook*, etc.).\n",
    "\n",
    "**Install [GeoPandas](http://geopandas.org/install.html) and [Fiona](https://fiona.readthedocs.io/en/latest/index.html) via Anaconda**\n",
    "\n",
    "[GeoPandas](http://geopandas.org/install.html) has a dependency on [Fiona](https://fiona.readthedocs.io/en/latest/index.html), and because of some nuances with the [pip version of Fiona*](https://pypi.org/project/Fiona/), [GeoPandas](https://anaconda.org/conda-forge/geopandas) **MUST** be installed via Anaconda on Windows OS.\n",
    "\n",
    "4. `conda install -c conda-forge geopandas` [(*link*)](https://anaconda.org/conda-forge/geopandas) will install both *GeoPandas* and *fiona* because *GeoPandas* has a [fiona dependency](http://geopandas.org/install.html#dependencies).\n",
    "\n",
    "**Install** `hs_process` **and its remaining dependencies via** `pip`\n",
    "\n",
    "5. `pip install hs_process` [(*link*)](https://pypi.org/project/hs_process/) will install the remaining dependencies via `pip`. Note that `pip` should only be used *after* as many dependencies as possible are installed via `conda install` - [see here for more information](https://docs.conda.io/projects/conda/en/latest/user-guide/tasks/manage-environments.html#using-pip-in-an-environment).\n",
    "\n",
    "**Run test.py to confirm** `hs_process` **and its dependencies are properly installed**\n",
    "\n",
    "6. `python <path to hs_process\\test\\test.py>` to run through some basic tests to be sure all dependencies are installed properly.\n",
    "\n",
    "*During installation, the pip version of [Fiona](https://pypi.org/project/Fiona/) requires that it is able to discover the locations of header files and libraries needed to compile its C extnesions, and these must be provided by the user when installing on Windows. For more information on this behavior, please refer to the [Fiona documentation](https://fiona.readthedocs.io/en/latest/README.html#windows).\n",
    "\n",
    "***"
   ]
  },
  {
   "cell_type": "markdown",
   "metadata": {},
   "source": [
    "## Other methods for installing `hs_process`\n",
    "**IMPORTANT**: Before installing `hs_process` via any of the following methods, be sure the [GeoPandas](http://geopandas.org/install.html) and [Fiona](https://fiona.readthedocs.io/en/latest/index.html) dependencies are installed via `conda`. [GeoPandas](http://geopandas.org/install.html) has a dependency on [Fiona](https://fiona.readthedocs.io/en/latest/index.html), and because of some nuances with the [pip version of Fiona*](https://pypi.org/project/Fiona/), [GeoPandas](https://anaconda.org/conda-forge/geopandas) **MUST** be installed via Anaconda on Windows OS.\n",
    "\n",
    "4. `conda install -c conda-forge geopandas` [*(link)*](https://anaconda.org/conda-forge/geopandas) will install both *GeoPandas* and *fiona* because *GeoPandas* has a [fiona dependency](http://geopandas.org/install.html#dependencies).\n",
    "5. `pip install git+https://github.com/tnigon/hs_process` [*(link)*](https://github.com/tnigon/hs_process) will install the latest development version directly from Github.\n",
    "\n",
    "OR *another* option is to clone the Github repository and install from your local copy. After navigating to the directory of your cloned local copy:\n",
    "\n",
    "6. `pip install .`\n",
    "\n",
    "The recommended folder directory for the `hs_process` package is in the *site-packages* folder in your Python Path (alongside all other Python packages).\n",
    "\n",
    "*During installation, the pip version of [Fiona](https://pypi.org/project/Fiona/) requires that it is able to discover the locations of header files and libraries needed to compile its C extnesions, and these must be provided by the user when installing on Windows. For more information on this behavior, please refer to the [Fiona documentation](https://fiona.readthedocs.io/en/latest/README.html#windows).\n",
    "\n",
    "***"
   ]
  }
 ],
 "metadata": {
  "kernelspec": {
   "display_name": "Python 3",
   "language": "python",
   "name": "python3"
  },
  "language_info": {
   "codemirror_mode": {
    "name": "ipython",
    "version": 3
   },
   "file_extension": ".py",
   "mimetype": "text/x-python",
   "name": "python",
   "nbconvert_exporter": "python",
   "pygments_lexer": "ipython3",
   "version": "3.7.3"
  }
 },
 "nbformat": 4,
 "nbformat_minor": 2
}
